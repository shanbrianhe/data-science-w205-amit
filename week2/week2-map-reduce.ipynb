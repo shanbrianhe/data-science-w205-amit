{
 "cells": [
  {
   "cell_type": "markdown",
   "metadata": {},
   "source": [
    "## live session 2 - map reduce"
   ]
  },
  {
   "cell_type": "markdown",
   "metadata": {},
   "source": [
    "step-by-step approach to map reduce framework.\n",
    "\n",
    "we will start with examining a simple \"word count\" program implemented in python"
   ]
  },
  {
   "cell_type": "markdown",
   "metadata": {},
   "source": [
    "### follow along here\n",
    "https://zettadatanet.wordpress.com/2015/04/04/a-hands-on-introduction-to-mapreduce-in-python/"
   ]
  },
  {
   "cell_type": "markdown",
   "metadata": {},
   "source": [
    "### wordcount - the completely manual way"
   ]
  },
  {
   "cell_type": "code",
   "execution_count": 1,
   "metadata": {
    "collapsed": true
   },
   "outputs": [],
   "source": [
    "import sys\n",
    "import re\n"
   ]
  },
  {
   "cell_type": "code",
   "execution_count": 3,
   "metadata": {
    "scrolled": true
   },
   "outputs": [
    {
     "name": "stdout",
     "output_type": "stream",
     "text": [
      "{'party': 1, 'all': 1, 'good': 1, 'for': 1, 'of': 1, 'is': 1, 'men': 1, 'to': 2, 'time': 1, 'aid': 1, 'the': 3, 'now': 1, 'come': 1}\n"
     ]
    }
   ],
   "source": [
    "# wordcount implementation using python dictionary\n",
    "sums = {}\n",
    "\n",
    "filename = 'now.txt'\n",
    "#filename = 'pg2701.txt'\n",
    "f = open(filename, 'r')\n",
    "\n",
    "for line in f:\n",
    "    line = re.sub( r'^\\W+|\\W+$', '', line )\n",
    "    words = re.split(r'\\W+', line)\n",
    "\n",
    "    for word in words:\n",
    "        word = word.lower()\n",
    "        sums[word] = sums.get( word, 0 ) + 1\n",
    "\n",
    "print sums"
   ]
  },
  {
   "cell_type": "markdown",
   "metadata": {},
   "source": [
    "### wordcount - using map reduce\n",
    "\n",
    "three steps\n",
    "1. map\n",
    "2. shuffle\n",
    "3. reduce"
   ]
  },
  {
   "cell_type": "markdown",
   "metadata": {},
   "source": [
    "#### 1. map step\n",
    "\n",
    "for each word you encounter, \"emit\" a word and the number 1 for future counting"
   ]
  },
  {
   "cell_type": "code",
   "execution_count": 4,
   "metadata": {},
   "outputs": [
    {
     "name": "stdout",
     "output_type": "stream",
     "text": [
      "now\t1\n",
      "is\t1\n",
      "the\t1\n",
      "time\t1\n",
      "for\t1\n",
      "all\t1\n",
      "good\t1\n",
      "men\t1\n",
      "to\t1\n",
      "come\t1\n",
      "to\t1\n",
      "the\t1\n",
      "aid\t1\n",
      "of\t1\n",
      "the\t1\n",
      "party\t1\n"
     ]
    }
   ],
   "source": [
    "filename = 'now.txt'\n",
    "#filename = 'pg2701.txt'\n",
    "f = open(filename, 'r')\n",
    "\n",
    "map_output = list()\n",
    "for line in f:\n",
    "    line = re.sub( r'^\\W+|\\W+$', '', line )\n",
    "    words = re.split(r\"\\W+\", line)\n",
    "    \n",
    "    for word in words:\n",
    "        print( word.lower() + \"\\t1\" )\n",
    "        map_output.append( (word.lower(),1))"
   ]
  },
  {
   "cell_type": "code",
   "execution_count": 5,
   "metadata": {},
   "outputs": [
    {
     "data": {
      "text/plain": [
       "[('now', 1),\n",
       " ('is', 1),\n",
       " ('the', 1),\n",
       " ('time', 1),\n",
       " ('for', 1),\n",
       " ('all', 1),\n",
       " ('good', 1),\n",
       " ('men', 1),\n",
       " ('to', 1),\n",
       " ('come', 1),\n",
       " ('to', 1),\n",
       " ('the', 1),\n",
       " ('aid', 1),\n",
       " ('of', 1),\n",
       " ('the', 1),\n",
       " ('party', 1)]"
      ]
     },
     "execution_count": 5,
     "metadata": {},
     "output_type": "execute_result"
    }
   ],
   "source": [
    "map_output"
   ]
  },
  {
   "cell_type": "markdown",
   "metadata": {},
   "source": [
    "#### 2. shuffle step\n",
    "\n",
    "sort so that the same item is next to each other"
   ]
  },
  {
   "cell_type": "code",
   "execution_count": 6,
   "metadata": {},
   "outputs": [
    {
     "data": {
      "text/plain": [
       "[('aid', 1),\n",
       " ('all', 1),\n",
       " ('come', 1),\n",
       " ('for', 1),\n",
       " ('good', 1),\n",
       " ('is', 1),\n",
       " ('men', 1),\n",
       " ('now', 1),\n",
       " ('of', 1),\n",
       " ('party', 1),\n",
       " ('the', 1),\n",
       " ('the', 1),\n",
       " ('the', 1),\n",
       " ('time', 1),\n",
       " ('to', 1),\n",
       " ('to', 1)]"
      ]
     },
     "execution_count": 6,
     "metadata": {},
     "output_type": "execute_result"
    }
   ],
   "source": [
    "# shuffle step \n",
    "\n",
    "map_sorted = sorted(map_output)\n",
    "map_sorted"
   ]
  },
  {
   "cell_type": "markdown",
   "metadata": {},
   "source": [
    "#### 3. reduce step\n",
    "\n",
    "loop thru sorted list and count occurences"
   ]
  },
  {
   "cell_type": "code",
   "execution_count": 7,
   "metadata": {},
   "outputs": [
    {
     "name": "stdout",
     "output_type": "stream",
     "text": [
      "1\taid\n",
      "1\tall\n",
      "1\tcome\n",
      "1\tfor\n",
      "1\tgood\n",
      "1\tis\n",
      "1\tmen\n",
      "1\tnow\n",
      "1\tof\n",
      "1\tparty\n",
      "3\tthe\n",
      "1\ttime\n",
      "2\tto\n"
     ]
    }
   ],
   "source": [
    "# reduce step\n",
    "\n",
    "previous = None\n",
    "sum = 0\n",
    "\n",
    "for key, value in map_sorted:\n",
    "\n",
    "    if key != previous:\n",
    "        if previous is not None:\n",
    "            print str( sum ) + '\\t' + previous\n",
    "        previous = key\n",
    "        sum = 0\n",
    "    \n",
    "    sum = sum + value\n",
    "\n",
    "print str( sum ) + '\\t' + previous\n"
   ]
  },
  {
   "cell_type": "markdown",
   "metadata": {
    "collapsed": true
   },
   "source": [
    "### what else can you do with map-reduce?\n",
    "\n",
    "what if we want to get the distribution of number of letters in each word?\n",
    "how would you change your mapper? reducer?"
   ]
  },
  {
   "cell_type": "code",
   "execution_count": 26,
   "metadata": {},
   "outputs": [
    {
     "name": "stdout",
     "output_type": "stream",
     "text": [
      "now\tn\t1\n",
      "is\ti\t1\n",
      "the\tt\t1\n",
      "time\tt\t1\n",
      "for\tf\t1\n",
      "all\ta\t1\n",
      "good\tg\t1\n",
      "men\tm\t1\n",
      "to\tt\t1\n",
      "come\tc\t1\n",
      "to\tt\t1\n",
      "the\tt\t1\n",
      "aid\ta\t1\n",
      "of\to\t1\n",
      "the\tt\t1\n",
      "party\tp\t1\n"
     ]
    }
   ],
   "source": [
    "filename = 'now.txt'\n",
    "#filename = 'pg2701.txt'\n",
    "f = open(filename, 'r')\n",
    "\n",
    "map_output = list()\n",
    "for line in f:\n",
    "    line = re.sub( r'^\\W+|\\W+$', '', line )\n",
    "    words = re.split(r\"\\W+\", line)\n",
    "    \n",
    "    for word in words:\n",
    "        print( word.lower() + \"\\t\" + word.lower()[0] + \"\\t1\" )\n",
    "        map_output.append( (word.lower()[0],1))"
   ]
  },
  {
   "cell_type": "code",
   "execution_count": 27,
   "metadata": {},
   "outputs": [
    {
     "data": {
      "text/plain": [
       "[('n', 1),\n",
       " ('i', 1),\n",
       " ('t', 1),\n",
       " ('t', 1),\n",
       " ('f', 1),\n",
       " ('a', 1),\n",
       " ('g', 1),\n",
       " ('m', 1),\n",
       " ('t', 1),\n",
       " ('c', 1),\n",
       " ('t', 1),\n",
       " ('t', 1),\n",
       " ('a', 1),\n",
       " ('o', 1),\n",
       " ('t', 1),\n",
       " ('p', 1)]"
      ]
     },
     "execution_count": 27,
     "metadata": {},
     "output_type": "execute_result"
    }
   ],
   "source": [
    "map_output"
   ]
  },
  {
   "cell_type": "code",
   "execution_count": 28,
   "metadata": {},
   "outputs": [
    {
     "data": {
      "text/plain": [
       "[('a', 1),\n",
       " ('a', 1),\n",
       " ('c', 1),\n",
       " ('f', 1),\n",
       " ('g', 1),\n",
       " ('i', 1),\n",
       " ('m', 1),\n",
       " ('n', 1),\n",
       " ('o', 1),\n",
       " ('p', 1),\n",
       " ('t', 1),\n",
       " ('t', 1),\n",
       " ('t', 1),\n",
       " ('t', 1),\n",
       " ('t', 1),\n",
       " ('t', 1)]"
      ]
     },
     "execution_count": 28,
     "metadata": {},
     "output_type": "execute_result"
    }
   ],
   "source": [
    "# shuffle step \n",
    "\n",
    "map_sorted = sorted(map_output)\n",
    "map_sorted"
   ]
  },
  {
   "cell_type": "code",
   "execution_count": 29,
   "metadata": {},
   "outputs": [
    {
     "name": "stdout",
     "output_type": "stream",
     "text": [
      "2 \ta\n",
      "1 \tc\n",
      "1 \tf\n",
      "1 \tg\n",
      "1 \ti\n",
      "1 \tm\n",
      "1 \tn\n",
      "1 \to\n",
      "1 \tp\n",
      "6 \tt\n"
     ]
    }
   ],
   "source": [
    "# reduce step\n",
    "\n",
    "previous = None\n",
    "sum = 0\n",
    "\n",
    "for key, value in map_sorted:\n",
    "\n",
    "    if key != previous:\n",
    "        if previous is not None:\n",
    "            print str( sum ), '\\t' , previous\n",
    "        previous = key\n",
    "        sum = 0\n",
    "    \n",
    "    sum = sum + value\n",
    "\n",
    "print str( sum ), '\\t' , previous\n"
   ]
  },
  {
   "cell_type": "markdown",
   "metadata": {},
   "source": [
    "### do it yourself \n",
    "\n",
    "modify the code to count the number of words of different lengths\n",
    "\n",
    "your output should be something like >>> \n",
    "```\n",
    "4 \t2\n",
    "8 \t3\n",
    "3 \t4\n",
    "1 \t5\n",
    "```\n",
    "it means there are 4 2-letter words, and 8 3-letter words, etc.  for the now.txt file"
   ]
  },
  {
   "cell_type": "code",
   "execution_count": 5,
   "metadata": {},
   "outputs": [
    {
     "name": "stdout",
     "output_type": "stream",
     "text": [
      "{'now': 1, 'is': 1, 'the': 3, 'time': 1, 'for': 1, 'all': 1, 'good': 1, 'men': 1, 'to': 2, 'come': 1, 'aid': 1, 'of': 1, 'party': 1}\n"
     ]
    }
   ],
   "source": [
    "filename = 'now.txt'\n",
    "#filename = 'pg2701.txt'\n",
    "f = open(filename, 'r')\n",
    "\n",
    "map_output = list()\n",
    "for line in f:\n",
    "    line = re.sub( r'^\\W+|\\W+$', '', line )\n",
    "    words = re.split(r\"\\W+\", line)\n",
    "    \n",
    "    for word in words:\n",
    "        print( word.lower() + \"\\t\" + word.lower()[0] + \"\\t1\" )\n",
    "        map_output.append( (word.lower()[0],1))"
   ]
  },
  {
   "cell_type": "code",
   "execution_count": 7,
   "metadata": {},
   "outputs": [
    {
     "name": "stdout",
     "output_type": "stream",
     "text": [
      "now\t1\n",
      "is\t1\n",
      "the\t1\n",
      "time\t1\n",
      "for\t1\n",
      "all\t1\n",
      "good\t1\n",
      "men\t1\n",
      "to\t1\n",
      "come\t1\n",
      "to\t1\n",
      "the\t1\n",
      "aid\t1\n",
      "of\t1\n",
      "the\t1\n",
      "party\t1\n"
     ]
    }
   ],
   "source": [
    "filename = 'now.txt'\n",
    "#filename = 'pg2701.txt'\n",
    "f = open(filename, 'r')\n",
    "\n",
    "map_output = list()\n",
    "for line in f:\n",
    "    line = re.sub( r'^\\W+|\\W+$', '', line )\n",
    "    words = re.split(r\"\\W+\", line)\n",
    "    \n",
    "    for word in words:\n",
    "        print( word.lower() + \"\\t1\" )\n",
    "        map_output.append( (word.lower(),1))"
   ]
  },
  {
   "cell_type": "code",
   "execution_count": 8,
   "metadata": {},
   "outputs": [
    {
     "data": {
      "text/plain": [
       "[('aid', 1),\n",
       " ('all', 1),\n",
       " ('come', 1),\n",
       " ('for', 1),\n",
       " ('good', 1),\n",
       " ('is', 1),\n",
       " ('men', 1),\n",
       " ('now', 1),\n",
       " ('of', 1),\n",
       " ('party', 1),\n",
       " ('the', 1),\n",
       " ('the', 1),\n",
       " ('the', 1),\n",
       " ('time', 1),\n",
       " ('to', 1),\n",
       " ('to', 1)]"
      ]
     },
     "execution_count": 8,
     "metadata": {},
     "output_type": "execute_result"
    }
   ],
   "source": [
    "# shuffle step \n",
    "\n",
    "map_sorted = sorted(map_output)\n",
    "map_sorted"
   ]
  },
  {
   "cell_type": "code",
   "execution_count": null,
   "metadata": {
    "collapsed": true
   },
   "outputs": [],
   "source": [
    "# reduce step\n",
    "\n",
    "previous = None\n",
    "sum = 0\n",
    "\n",
    "for key, value in map_sorted:\n",
    "\n",
    "    if key != previous:\n",
    "        if previous is not None:\n",
    "            print str( sum ) + '\\t' + previous\n",
    "        previous = key\n",
    "        sum = 0\n",
    "    \n",
    "    sum = sum + value\n",
    "\n",
    "print str( sum ) + '\\t' + previous\n"
   ]
  },
  {
   "cell_type": "markdown",
   "metadata": {},
   "source": [
    "### using python map functions\n",
    "\n",
    "http://www.bogotobogo.com/python/python_fncs_map_filter_reduce.php"
   ]
  },
  {
   "cell_type": "code",
   "execution_count": 12,
   "metadata": {},
   "outputs": [
    {
     "data": {
      "text/plain": [
       "[1, 4, 9, 16, 25]"
      ]
     },
     "execution_count": 12,
     "metadata": {},
     "output_type": "execute_result"
    }
   ],
   "source": [
    "# a for loop for a simple function\n",
    "\n",
    "items = [1, 2, 3, 4, 5]\n",
    "squared = []\n",
    "for x in items:\n",
    "    squared.append(x ** 2)\n",
    "squared\n"
   ]
  },
  {
   "cell_type": "code",
   "execution_count": 14,
   "metadata": {},
   "outputs": [
    {
     "data": {
      "text/plain": [
       "[1, 4, 9, 16, 25]"
      ]
     },
     "execution_count": 14,
     "metadata": {},
     "output_type": "execute_result"
    }
   ],
   "source": [
    "# use the built-in map function\n",
    "def sqr(x): \n",
    "    return x ** 2\n",
    "\n",
    "list(map(sqr, items))"
   ]
  },
  {
   "cell_type": "code",
   "execution_count": 17,
   "metadata": {
    "collapsed": true
   },
   "outputs": [],
   "source": [
    "# try map from word count example\n",
    "def word_map(x):\n",
    "    return (x, 1)\n"
   ]
  },
  {
   "cell_type": "code",
   "execution_count": 19,
   "metadata": {},
   "outputs": [
    {
     "data": {
      "text/plain": [
       "[('this', 1), ('is', 1), ('foo', 1)]"
      ]
     },
     "execution_count": 19,
     "metadata": {},
     "output_type": "execute_result"
    }
   ],
   "source": [
    "map(word_map, \"this is foo\".split())"
   ]
  },
  {
   "cell_type": "markdown",
   "metadata": {},
   "source": [
    "### ADVANCED write python map reduce from scratch\n",
    "\n",
    "http://www.michael-noll.com/tutorials/writing-an-hadoop-mapreduce-program-in-python/"
   ]
  },
  {
   "cell_type": "markdown",
   "metadata": {},
   "source": [
    "### mrjob: using a python map and reduce library\n",
    "\n",
    "\n",
    "https://pythonhosted.org/mrjob/guides/quickstart.html\n",
    "\n",
    "\n",
    "mrjob lets you write MapReduce jobs in Python 2.6+/3.3+ and run them on several platforms. You can:\n",
    "\n",
    "* Write multi-step MapReduce jobs in pure Python\n",
    "* Test on your local machine\n",
    "* Run on a Hadoop cluster\n",
    "* Run in the cloud using Amazon Elastic MapReduce (EMR)\n",
    "* Run in the cloud using Google Cloud Dataproc (Dataproc)\n",
    "* Easily run Spark jobs on EMR or your own Hadoop cluster\n",
    "\n",
    "#### put the following in a text file\n",
    "\n",
    "call it **mr_word_count.py**\n",
    "\n",
    "\n"
   ]
  },
  {
   "cell_type": "code",
   "execution_count": null,
   "metadata": {},
   "outputs": [],
   "source": [
    "from mrjob.job import MRJob\n",
    "\n",
    "\n",
    "class MRWordFrequencyCount(MRJob):\n",
    "\n",
    "    def mapper(self, _, line):\n",
    "        yield \"chars\", len(line)\n",
    "        yield \"words\", len(line.split())\n",
    "        yield \"lines\", 1\n",
    "\n",
    "    def reducer(self, key, values):\n",
    "        yield key, sum(values)\n",
    "\n",
    "\n",
    "\n",
    "MRWordFrequencyCount.run()"
   ]
  },
  {
   "cell_type": "markdown",
   "metadata": {
    "collapsed": true
   },
   "source": [
    "#### run the code by typing \n",
    "\n",
    "```\n",
    "python mr_word_count.py now.txt\n",
    "```"
   ]
  },
  {
   "cell_type": "code",
   "execution_count": null,
   "metadata": {
    "collapsed": true
   },
   "outputs": [],
   "source": []
  }
 ],
 "metadata": {
  "kernelspec": {
   "display_name": "Python 3",
   "language": "python",
   "name": "python3"
  },
  "language_info": {
   "codemirror_mode": {
    "name": "ipython",
    "version": 3
   },
   "file_extension": ".py",
   "mimetype": "text/x-python",
   "name": "python",
   "nbconvert_exporter": "python",
   "pygments_lexer": "ipython3",
   "version": "3.6.2rc2"
  }
 },
 "nbformat": 4,
 "nbformat_minor": 1
}
